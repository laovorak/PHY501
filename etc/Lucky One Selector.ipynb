{
 "cells": [
  {
   "cell_type": "markdown",
   "metadata": {},
   "source": [
    "# List of Fortune"
   ]
  },
  {
   "cell_type": "code",
   "execution_count": 27,
   "metadata": {
    "collapsed": false
   },
   "outputs": [
    {
     "name": "stdout",
     "output_type": "stream",
     "text": [
      "['Fuad', 'Ball', 'Aphichard', 'Ter', 'Wan', 'Liw']\n"
     ]
    }
   ],
   "source": [
    "classList = ['Fuad','Ball','Aphichard','Ter','Wan','Liw']\n",
    "print classList"
   ]
  },
  {
   "cell_type": "code",
   "execution_count": 21,
   "metadata": {
    "collapsed": true
   },
   "outputs": [],
   "source": [
    "import random as rand1234"
   ]
  },
  {
   "cell_type": "code",
   "execution_count": 33,
   "metadata": {
    "collapsed": false
   },
   "outputs": [],
   "source": [
    "rand1234.shuffle(classList)"
   ]
  },
  {
   "cell_type": "code",
   "execution_count": 34,
   "metadata": {
    "collapsed": false
   },
   "outputs": [],
   "source": [
    "luckyOne = classList.pop()"
   ]
  },
  {
   "cell_type": "code",
   "execution_count": 35,
   "metadata": {
    "collapsed": false
   },
   "outputs": [
    {
     "name": "stdout",
     "output_type": "stream",
     "text": [
      "It's time for Wan to answer\n"
     ]
    }
   ],
   "source": [
    "print \"It's time for \" + luckyOne + \" to answer\""
   ]
  },
  {
   "cell_type": "code",
   "execution_count": 22,
   "metadata": {
    "collapsed": false
   },
   "outputs": [
    {
     "data": {
      "text/plain": [
       "'Ball'"
      ]
     },
     "execution_count": 22,
     "metadata": {},
     "output_type": "execute_result"
    }
   ],
   "source": [
    "rand1234.choice(classList)"
   ]
  },
  {
   "cell_type": "code",
   "execution_count": 23,
   "metadata": {
    "collapsed": false
   },
   "outputs": [
    {
     "data": {
      "text/plain": [
       "0.2020243948475604"
      ]
     },
     "execution_count": 23,
     "metadata": {},
     "output_type": "execute_result"
    }
   ],
   "source": [
    "rand1234.random()"
   ]
  },
  {
   "cell_type": "markdown",
   "metadata": {
    "collapsed": true
   },
   "source": [
    "# GUI"
   ]
  },
  {
   "cell_type": "code",
   "execution_count": 1,
   "metadata": {
    "collapsed": false
   },
   "outputs": [],
   "source": [
    "#!/usr/bin/python\n",
    "# -*- coding: utf-8 -*-\n",
    "import sys\n",
    "import random as rand\n",
    "from PyQt4 import QtGui, QtCore\n",
    "\n",
    "classListFull = ['Fuad','Ball','Aphichard','Ter','Wan','Liw']\n",
    "\n",
    "class Randomizer(QtGui.QWidget):\n",
    "    \n",
    "    def __init__(self):\n",
    "        super(Randomizer, self).__init__()\n",
    "        self.initUI()\n",
    "        \n",
    "    def initUI(self):\n",
    "        \n",
    "        self.running = True\n",
    "        \n",
    "        self.textColor  = QtCore.Qt.darkRed\n",
    "        self.fontSize = 20\n",
    "\n",
    "        self.classList = list(classListFull)\n",
    "        rand.shuffle(self.classList)\n",
    "        \n",
    "        grid = QtGui.QGridLayout()\n",
    "        self.setLayout(grid)\n",
    "        \n",
    "        self.label = QtGui.QLabel(self)\n",
    "        self.combo = QtGui.QComboBox(self)\n",
    "        self.pick = QtGui.QPushButton('Pick', self)\n",
    "        self.resume = QtGui.QPushButton('Resume', self)\n",
    "\n",
    "        self.pick.clicked[bool].connect(self.pickName)\n",
    "        self.resume.clicked[bool].connect(self.resumeRolling)\n",
    "\n",
    "        grid.addWidget(self.label, 2, 1)\n",
    "        grid.addWidget(self.combo, 3, 0)\n",
    "        grid.addWidget(self.pick, 3, 1)\n",
    "        grid.addWidget(self.resume, 3, 2)\n",
    "\n",
    "#         self.label.setText('TEST')\n",
    "        self.updateCombo()\n",
    "        \n",
    "        self.timer = QtCore.QTimer()\n",
    "        self.timer.timeout.connect(self.textUpdate)\n",
    "        self.timer.start(50)\n",
    "        self.textUpdate()\n",
    "        \n",
    "        self.setGeometry(300, 300, 280, 170)\n",
    "        self.setWindowTitle('Randomizer')\n",
    "        self.show()\n",
    "\n",
    "    def paintEvent(self, event):\n",
    "        qp = QtGui.QPainter()\n",
    "        qp.begin(self)\n",
    "        self.drawText(event, qp, self.textColor, self.fontSize)\n",
    "        qp.end()\n",
    "        \n",
    "    def drawText(self, event, qp, color,size):\n",
    "        qp.setPen(QtGui.QColor(color))\n",
    "        qp.setFont(QtGui.QFont('Decorative', size))\n",
    "        qp.drawText(event.rect(), QtCore.Qt.AlignCenter, self.text)       \n",
    "    \n",
    "    def pickName(self):\n",
    "        if self.running:\n",
    "            self.textColor  = QtCore.Qt.darkGreen   \n",
    "            self.fontSize = 60\n",
    "            rand.shuffle(self.classList)\n",
    "            self.picked = self.classList.pop()\n",
    "            self.text = self.picked\n",
    "            self.updateCombo()\n",
    "            self.running = False\n",
    "            self.update()\n",
    "    \n",
    "    def textUpdate(self):\n",
    "        if self.running: \n",
    "            self.text = rand.choice(self.classList)\n",
    "            self.update()\n",
    "            \n",
    "    def updateCombo(self):\n",
    "        self.combo.clear()\n",
    "        for name in self.classList:\n",
    "            self.combo.addItem(name)\n",
    "    \n",
    "    def resumeRolling(self):\n",
    "        if not self.classList:\n",
    "            self.classList = list(classListFull)\n",
    "            self.updateCombo()\n",
    "        \n",
    "        self.textColor  = QtCore.Qt.darkRed  \n",
    "        self.fontSize = 20\n",
    "        self.running = True\n",
    "\n",
    "\n",
    "def main():\n",
    "    \n",
    "    app = QtGui.QApplication(sys.argv)\n",
    "    app.setStyle('motif')\n",
    "    ex = Randomizer()\n",
    "    app.exec_()\n",
    "\n",
    "if __name__ == '__main__':\n",
    "    main()"
   ]
  },
  {
   "cell_type": "code",
   "execution_count": null,
   "metadata": {
    "collapsed": true
   },
   "outputs": [],
   "source": []
  }
 ],
 "metadata": {
  "kernelspec": {
   "display_name": "Python 2",
   "language": "python",
   "name": "python2"
  },
  "language_info": {
   "codemirror_mode": {
    "name": "ipython",
    "version": 2
   },
   "file_extension": ".py",
   "mimetype": "text/x-python",
   "name": "python",
   "nbconvert_exporter": "python",
   "pygments_lexer": "ipython2",
   "version": "2.7.10"
  }
 },
 "nbformat": 4,
 "nbformat_minor": 0
}
